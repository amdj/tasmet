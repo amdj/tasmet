{
 "metadata": {
  "name": ""
 },
 "nbformat": 3,
 "nbformat_minor": 0,
 "worksheets": [
  {
   "cells": [
    {
     "cell_type": "code",
     "collapsed": true,
     "input": [
      "from tmtubes.linear import * \n",
      "from lintube_python import *\n",
      "import numpy as n\n",
      "Nf=6\n",
      "gp=120\n",
      "Up=10.\n",
      "freq=85.\n",
      "t1=ISOTDUCT()\n",
      "t1.setgrid(L=1,gridpoints=gp)\n",
      "t1.setnodes(0,1)\n",
      "t1.creategeom(cshape=None,S=1.)\n",
      "t1.Init(293.15)\n",
      "s1=TAsystem([t1])\n",
      "s1.acousticSystem.addbc(0,'volu',Up)\n",
      "s1.acousticSystem.addbc(1,'volu',0)\n",
      "s1.Init('air',freq=freq)\n",
      "s1.Acfreqresponse(freq)\n",
      "t1=s1.segs[0]\n",
      "\n",
      "c0=sqrt(1.4*287*293.15)\n",
      "\n",
      "U1lin=t1.U1\n",
      "p1lin=t1.p1\n",
      "t=tube_py(gp,Nf,freq,Up)\n",
      "t.setUResult(U1lin.real,1)\n",
      "t.setUResult(U1lin.imag,2)\n",
      "t.setpResult(p1lin.real,1)\n",
      "t.setpResult(p1lin.imag,2)\n",
      "solinit=t.getResult()\n",
      "#sol=new_raph_numpy(t.Objfun,t.getResult(),1e-3)\n",
      "t.Solve()"
     ],
     "language": "python",
     "metadata": {},
     "outputs": [
      {
       "output_type": "stream",
       "stream": "stdout",
       "text": [
        "Operating frequency set to 85.00 Hz.\n",
        "Newton-raphson iteration on function started..."
       ]
      },
      {
       "output_type": "stream",
       "stream": "stdout",
       "text": [
        "\n",
        "Determinant of Jacobian becomes zero"
       ]
      },
      {
       "output_type": "stream",
       "stream": "stdout",
       "text": [
        "\n",
        "Iteration: 1. Relative error: 1.34e-02. Function error: 1.45e+04"
       ]
      },
      {
       "output_type": "stream",
       "stream": "stdout",
       "text": [
        "\n",
        "Determinant of Jacobian becomes zero"
       ]
      },
      {
       "output_type": "stream",
       "stream": "stdout",
       "text": [
        "\n",
        "Iteration: 2. Relative error: 3.02e-04. Function error: 1.58e+00"
       ]
      },
      {
       "output_type": "stream",
       "stream": "stdout",
       "text": [
        "\n",
        "Determinant of Jacobian becomes zero"
       ]
      },
      {
       "output_type": "stream",
       "stream": "stdout",
       "text": [
        "\n",
        "Iteration: 3. Relative error: 1.64e-05. Function error: 2.54e-01"
       ]
      },
      {
       "output_type": "stream",
       "stream": "stdout",
       "text": [
        "\n",
        "Determinant of Jacobian becomes zero"
       ]
      },
      {
       "output_type": "stream",
       "stream": "stdout",
       "text": [
        "\n",
        "Iteration: 4. Relative error: 4.21e-07. Function error: 1.45e-02"
       ]
      },
      {
       "output_type": "stream",
       "stream": "stdout",
       "text": [
        "\n",
        "Determinant of Jacobian becomes zero"
       ]
      },
      {
       "output_type": "stream",
       "stream": "stdout",
       "text": [
        "\n",
        "Iteration: 5. Relative error: 1.89e-08. Function error: 3.90e-04"
       ]
      },
      {
       "output_type": "stream",
       "stream": "stdout",
       "text": [
        "\n",
        "Determinant of Jacobian becomes zero"
       ]
      },
      {
       "output_type": "stream",
       "stream": "stdout",
       "text": [
        "\n",
        "Iteration: 6. Relative error: 7.77e-10. Function error: 1.56e-05"
       ]
      },
      {
       "output_type": "stream",
       "stream": "stdout",
       "text": [
        "\n",
        "Determinant of Jacobian becomes zero"
       ]
      },
      {
       "output_type": "stream",
       "stream": "stdout",
       "text": [
        "\n",
        "Iteration: 7. Relative error: 1.34e-11. Function error: 6.60e-07"
       ]
      },
      {
       "output_type": "stream",
       "stream": "stdout",
       "text": [
        "\n",
        "Iteration on function converged\n",
        "Relative error: 1.34e-11. Function error: 6.60e-07\n"
       ]
      }
     ],
     "prompt_number": 5
    },
    {
     "cell_type": "code",
     "collapsed": false,
     "input": [
      "p1=t.getpResult(1)+1j*t.getpResult(2)\n",
      "U1=t.getUResult(1)+1j*t.getUResult(2)\n",
      "x=t.getx()\n",
      "plot(x,p1.real);  plot(x,p1.imag,'r')\n",
      "plot(t1.x,t1.p1.real);  plot(t1.x,t1.p1.imag,'g',linestyle='-.')\n",
      "title('re, im p1')\n",
      "figure(2)\n",
      "title('re u')\n",
      "plot(x,U1.real); hold('on')\n",
      "plot(t1.x,t1.U1.real)"
     ],
     "language": "python",
     "metadata": {},
     "outputs": [
      {
       "metadata": {},
       "output_type": "pyout",
       "prompt_number": 3,
       "text": [
        "[<matplotlib.lines.Line2D at 0x4c55890>]"
       ]
      },
      {
       "metadata": {},
       "output_type": "display_data",
       "png": "[encoded data removed]",
       "text": [
        "<matplotlib.figure.Figure at 0x4bfbf90>"
       ]
      },
      {
       "metadata": {},
       "output_type": "display_data",
       "png": "[encoded data removed]",
       "text": [
        "<matplotlib.figure.Figure at 0x4c364d0>"
       ]
      }
     ],
     "prompt_number": 3
    },
    {
     "cell_type": "code",
     "collapsed": false,
     "input": [
      "p2=t.getpResult(3)+1j*t.getpResult(4)\n",
      "p3=t.getpResult(5)+1j*t.getpResult(6)\n",
      "U2=t.getUResult(3)+1j*t.getUResult(4)\n",
      "rho1=t.getrhoResult(1)+1j*t.getrhoResult(2)\n",
      "c0sq=1.4*287*293.15\n",
      "plot(x,p3.real); hold('on')"
     ],
     "language": "python",
     "metadata": {},
     "outputs": [
      {
       "metadata": {},
       "output_type": "display_data",
       "png": "[encoded data removed]",
       "text": [
        "<matplotlib.figure.Figure at 0x4c18090>"
       ]
      }
     ],
     "prompt_number": 4
    },
    {
     "cell_type": "code",
     "collapsed": false,
     "input": [
      "rho2=t.getrhoResult(3)+1j*t.getrhoResult(4)\n",
      "plot(x,rho2.real);\n",
      "hold('on'); plot(x,rho2.imag,'r');"
     ],
     "language": "python",
     "metadata": {},
     "outputs": []
    },
    {
     "cell_type": "code",
     "collapsed": false,
     "input": [
      "U2=t.getrhoResult(3)+1j*t.getrhoResult(4)\n",
      "plot(x,U2.real);\n",
      "hold('on'); plot(x,U2.imag);"
     ],
     "language": "python",
     "metadata": {},
     "outputs": []
    },
    {
     "cell_type": "code",
     "collapsed": false,
     "input": [
      "U3=t.getrhoResult(5)+1j*t.getrhoResult(6)\n",
      "plot(x,U3.real);\n",
      "hold('on'); plot(x,U3.imag);"
     ],
     "language": "python",
     "metadata": {},
     "outputs": []
    },
    {
     "cell_type": "code",
     "collapsed": false,
     "input": [
      "u=[]\n",
      "rho=[]\n",
      "u.append(t.getUResult(0))\n",
      "rho.append(t.getrhoResult(0))\n",
      "for i in range(1,Nf+1):\n",
      "    u.append(t.getUResult(2*i-1)+1j*t.getUResult(2*i))\n",
      "    rho.append(t.getrhoResult(2*i-1)+1j*t.getrhoResult(2*i))\n",
      "x=t.getx()\n",
      "def ut(t):\n",
      "    res=n.zeros(x.shape[0],)\n",
      "    for i in range(Nf):\n",
      "        res=res+(u[i]*exp(1j*2*pi*freq*i*t)).real\n",
      "    return res\n",
      "def rhot(t):\n",
      "    res=n.zeros(x.shape[0],)\n",
      "    for i in range(Nf):\n",
      "        res=res+(rho[i]*exp(1j*2*pi*freq*i*t)).real\n",
      "    return res"
     ],
     "language": "python",
     "metadata": {},
     "outputs": []
    },
    {
     "cell_type": "code",
     "collapsed": false,
     "input": [
      "fig=plt.figure(figsize=(8,4))\n",
      "ax=plt.axes(xlim=(0,1),ylim=(-80,80))\n",
      "line, = ax.plot([],[],lw=2)\n",
      "def init():\n",
      "    line.set_data([],[])\n",
      "    return line,\n",
      "\n",
      "def animate(i):\n",
      "    u_t = ut(i/freq/200)\n",
      "    line.set_data(x, u_t)\n",
      "    return line,\n",
      "from matplotlib import animation\n",
      "anim = animation.FuncAnimation(fig, animate, init_func=init,\n",
      "                              frames=200, interval=20, blit=True)\n",
      "anim.save('rho.mp4', fps=30)\n",
      "plt.show()\n",
      "#animate(100)"
     ],
     "language": "python",
     "metadata": {},
     "outputs": []
    },
    {
     "cell_type": "code",
     "collapsed": false,
     "input": [],
     "language": "python",
     "metadata": {},
     "outputs": []
    }
   ],
   "metadata": {}
  }
 ]
}